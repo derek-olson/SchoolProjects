{
 "cells": [
  {
   "cell_type": "code",
   "execution_count": 1,
   "metadata": {},
   "outputs": [],
   "source": [
    "import pandas as pd\n",
    "import numpy as np\n",
    "from matplotlib import pyplot as plt\n",
    "from sklearn.model_selection import train_test_split\n",
    "import torchvision\n",
    "import torch\n",
    "import torchvision.transforms as transforms\n",
    "import torch.nn as nn\n",
    "import torch.nn.functional as F\n",
    "import torch.optim as optim"
   ]
  },
  {
   "cell_type": "code",
   "execution_count": 2,
   "metadata": {},
   "outputs": [
    {
     "data": {
      "text/plain": [
       "<matplotlib.image.AxesImage at 0x7fdb8040fd10>"
      ]
     },
     "execution_count": 2,
     "metadata": {},
     "output_type": "execute_result"
    },
    {
     "data": {
      "image/png": "[encoded data removed]",
      "text/plain": [
       "<Figure size 432x288 with 1 Axes>"
      ]
     },
     "metadata": {
      "needs_background": "light"
     },
     "output_type": "display_data"
    }
   ],
   "source": [
    "arial = pd.read_csv('/Users/derekolson/DerekOlson/CS6017/homework6/fonts/Arial.csv')\n",
    "df = arial.drop(['font', 'fontVariant', 'strength', 'italic', 'orientation', 'm_top', 'm_left', 'originalH', 'originalW', 'h', 'w'], axis=1)\n",
    "d = df.loc[:, df.columns != 'm_label']\n",
    "reshaped = d.to_numpy().reshape(-1,20,20)\n",
    "plt.imshow(reshaped[2,:,:])"
   ]
  },
  {
   "cell_type": "code",
   "execution_count": 3,
   "metadata": {},
   "outputs": [],
   "source": [
    "reshaped = reshaped.astype('float64')\n",
    "reshaped *= (1.0/reshaped.max())\n",
    "y = df.loc[:, df.columns == 'm_label'].to_numpy()\n",
    "y_unq = np.unique(y)"
   ]
  },
  {
   "cell_type": "code",
   "execution_count": 4,
   "metadata": {},
   "outputs": [],
   "source": [
    "labels = {}\n",
    "for i in range(len(y_unq)):\n",
    "    labels[i] = y_unq[i]"
   ]
  },
  {
   "cell_type": "code",
   "execution_count": 5,
   "metadata": {},
   "outputs": [],
   "source": [
    "def get_key(val, d): \n",
    "    for key, value in d.items(): \n",
    "         if val == value: \n",
    "             return key \n",
    "         \n",
    "y_labels = []            \n",
    "for i in range(0, len(y), 1):\n",
    "    y_labels.append(get_key(y[i], labels))"
   ]
  },
  {
   "cell_type": "code",
   "execution_count": 6,
   "metadata": {},
   "outputs": [],
   "source": [
    "X_train, X_test, y_train, y_test = train_test_split(reshaped, y_labels, random_state=1, test_size=0.3)    "
   ]
  },
  {
   "cell_type": "code",
   "execution_count": 7,
   "metadata": {},
   "outputs": [],
   "source": [
    "class Net(nn.Module):\n",
    "    def __init__(self):\n",
    "        super(Net, self).__init__()\n",
    "        c1Out = 32 # convoluation layer 1 will output 6 \"images\": one for each filter it trains\n",
    "        c2Out = 32 # similarly for the 2nd convolution layer\n",
    "        self.conv1 = nn.Conv2d(1, c1Out, 5) #1-D input, c1Out outputs, filter size 3x3 pixels\n",
    "        \n",
    "        # (28-2)*(28 -2)*c1Out outputs\n",
    "        \n",
    "        self.pool = nn.MaxPool2d(2, 2) #downsample 2x2 blocks to 1 value\n",
    "        \n",
    "        # 13*13*c1Out\n",
    "        \n",
    "        self.conv2 = nn.Conv2d(c1Out, c2Out, 5) #inputs comes from conv1 , specify our #outputs, use 3x3 blocks again\n",
    "        \n",
    "        # (8-4)*(8-4)*c2Out\n",
    "        # pool again\n",
    "        # (11/2)*(11/2)*c2Out = 5*5*c2Out\n",
    "        \n",
    "        #this is tricky.  The convolutions each shave 1 pixel off around the border, and then the\n",
    "        #max pools reduce the number of pixels by 4\n",
    "        self.pooledOutputSize = c2Out*2*2 # 16 outputs per image whose size has been reduced\n",
    "        self.fc1 = nn.Linear(self.pooledOutputSize, 3200)\n",
    "        self.fc2 = nn.Linear(3200, len(y_unq))\n",
    "        #self.fc3 = nn.Linear(84, 10)\n",
    "\n",
    "\n",
    "    def forward(self, x): # \"batch\" of images\n",
    "        #x is 4D tensor:  (batch size, width, height, #channels (1, grayscale image))\n",
    "        #after conv1:  (batch size, width adjusted, height adjusted, conv1 # outputs)\n",
    "        #after max pool: (batch size, width/2, height/2, conv1 # outputs)\n",
    "        x = self.pool(F.relu(self.conv1(x)))\n",
    "        x = self.pool(F.relu(self.conv2(x)))\n",
    "        #split into 2 lines above\n",
    "        #x = self.pool(F.relu(self.conv1(x)))  #apply convolution filter, then run it through relu activation function\n",
    "        #x = self.pool(F.relu(self.conv2(x))) #ditto\n",
    "        #print(x.shape) #uncomment to see the size of this layer.  It helped me figure out what pooledOutputSize shoudl be\n",
    "\n",
    "        #turn the 5x5xc2Out array into a single 1xN array.  The dense layers expect a 1D thing\n",
    "        x = x.view(-1, self.num_flat_features(x))\n",
    "        # x.view(batch_size( x.shape[0]) , -1)\n",
    "        x = F.relu(self.fc1(x)) #apply dense layer 1\n",
    "        #x = F.relu(self.fc2(x)) #and dense layer 2, using ReLU activation\n",
    "        x = self.fc2(x) #final dense layer.  No activation function on this\n",
    "        return x\n",
    "    \n",
    "    #compute the output size after our convolution layers\n",
    "    def num_flat_features(self, x):\n",
    "        size = x.size()[1:]  # all dimensions except the batch dimension\n",
    "        num_features = 1\n",
    "        for s in size:\n",
    "            num_features *= s\n",
    "        return num_features\n",
    "\n",
    "\n",
    "net = Net()"
   ]
  },
  {
   "cell_type": "code",
   "execution_count": 8,
   "metadata": {},
   "outputs": [],
   "source": [
    "xy_train = []\n",
    "for i in range(0, len(X_train), 1):\n",
    "    xy_train.append((X_train[i], y_train[i]))\n",
    "    \n",
    "xy_test = []\n",
    "for i in range(0, len(X_test), 1):\n",
    "    xy_test.append((X_test[i], y_test[i]))"
   ]
  },
  {
   "cell_type": "code",
   "execution_count": 9,
   "metadata": {},
   "outputs": [],
   "source": [
    "def train(model, epochs, data):\n",
    "    criterion = nn.CrossEntropyLoss() #this is a way of measuring error for classification that takes the\n",
    "    #\"confidence\" of a prediction into account.  High confidence, correct predictions are low cost, \n",
    "    #high confidence, wrong predictions are high cost, medium confidence predictions have cost\n",
    "\n",
    "    #use the ADAM optimizer to find the best weights\n",
    "    optimizer = optim.Adam(model.parameters(), lr= 1e-4) \n",
    "    \n",
    "    #this loads data and gets it in the right format for us\n",
    "    trainloader = torch.utils.data.DataLoader(data, batch_size=8,\n",
    "                                              shuffle=True, num_workers=0)\n",
    "\n",
    "    for epoch in range(epochs):  # loop over the dataset multiple times\n",
    "\n",
    "        running_loss = 0.0\n",
    "        for i, data in enumerate(trainloader, 0):\n",
    "            # get the inputs; data is a list of [inputs, labels]\n",
    "\n",
    "            inputs, labels = data\n",
    "            inputs = inputs.reshape((-1,1,20,20))\n",
    "            # zero the parameter gradients\n",
    "            optimizer.zero_grad()\n",
    "\n",
    "            # forward + backward + optimize\n",
    "            outputs = model(inputs.float()) #predict the output with some training data\n",
    "            loss = criterion(outputs, labels) #see how well we did\n",
    "            loss.backward() #see how to change the weights to do better\n",
    "            optimizer.step() #and actually change the weights\n",
    "\n",
    "            # print statistics\n",
    "            running_loss += loss.item()\n",
    "            if i % 2000 == 1999:    # print every 2000 mini-batches\n",
    "                print('[%d, %5d] loss: %.3f' %\n",
    "                      (epoch + 1, i + 1, running_loss / 2000))\n",
    "                running_loss = 0.0\n",
    "\n",
    "    print('Finished Training')"
   ]
  },
  {
   "cell_type": "code",
   "execution_count": 10,
   "metadata": {},
   "outputs": [],
   "source": [
    "def evaluate(model, data):  \n",
    "    #load some test data\n",
    "    testloader = torch.utils.data.DataLoader(data, batch_size=8,\n",
    "                                                shuffle=True, num_workers=0)\n",
    "    correct = 0\n",
    "    total = 0\n",
    "    to_return = []\n",
    "    with torch.no_grad():\n",
    "        for data in testloader:\n",
    "            images, labels = data\n",
    "            images = images.reshape((-1,1,20,20))\n",
    "            outputs = model(images.float())\n",
    "            _, predicted = torch.max(outputs.data, 1)\n",
    "            total += labels.size(0)\n",
    "            correct += (predicted == labels).sum().item()\n",
    "            bools = predicted == labels\n",
    "            for i in range(len(bools)):\n",
    "                if bools[i] == False:\n",
    "                    to_return.append(predicted[i].item())\n",
    "\n",
    "    #just do a coarse evaluation... how many did we predict correcly?\n",
    "    print('Accuracy of the network on the test images: %d %%' % (\n",
    "        100 * correct / total))\n",
    "    return to_return"
   ]
  },
  {
   "cell_type": "code",
   "execution_count": 11,
   "metadata": {},
   "outputs": [
    {
     "name": "stdout",
     "output_type": "stream",
     "text": [
      "[1,  2000] loss: 5.286\n",
      "[2,  2000] loss: 2.663\n",
      "[3,  2000] loss: 1.575\n",
      "[4,  2000] loss: 1.171\n",
      "Finished Training\n"
     ]
    }
   ],
   "source": [
    "train(net, 4, xy_train)"
   ]
  },
  {
   "cell_type": "code",
   "execution_count": 12,
   "metadata": {},
   "outputs": [
    {
     "name": "stdout",
     "output_type": "stream",
     "text": [
      "Accuracy of the network on the test images: 55 %\n"
     ]
    }
   ],
   "source": [
    "out = evaluate(net, xy_test)"
   ]
  },
  {
   "cell_type": "code",
   "execution_count": 13,
   "metadata": {},
   "outputs": [],
   "source": [
    "#The accuracy is 55%"
   ]
  },
  {
   "cell_type": "code",
   "execution_count": 14,
   "metadata": {},
   "outputs": [],
   "source": [
    "times = pd.read_csv('/Users/derekolson/DerekOlson/CS6017/homework6/fonts/TIMES.csv')"
   ]
  },
  {
   "cell_type": "code",
   "execution_count": 15,
   "metadata": {},
   "outputs": [],
   "source": [
    "df_times = times.drop(['font', 'fontVariant', 'strength', 'italic', 'orientation', 'm_top', 'm_left', 'originalH', 'originalW', 'h', 'w'], axis=1)\n",
    "d_times = df_times.loc[:, df_times.columns != 'm_label']\n",
    "reshaped_times = d_times.to_numpy().reshape(-1,20,20)"
   ]
  },
  {
   "cell_type": "code",
   "execution_count": 16,
   "metadata": {},
   "outputs": [],
   "source": [
    "reshaped_times = reshaped_times.astype('float64')\n",
    "reshaped_times *= (1.0/reshaped_times.max())\n",
    "\n",
    "y_times = df_times.loc[:, df_times.columns == 'm_label'].to_numpy()\n",
    "\n",
    "y_unq_times = np.unique(y_times)"
   ]
  },
  {
   "cell_type": "code",
   "execution_count": 17,
   "metadata": {},
   "outputs": [],
   "source": [
    "labels_times = {}\n",
    "for i in range(len(y_unq_times)):\n",
    "    labels_times[i] = y_unq_times[i]"
   ]
  },
  {
   "cell_type": "code",
   "execution_count": 18,
   "metadata": {},
   "outputs": [],
   "source": [
    "y_labels_times = []            \n",
    "for i in range(0, len(y_times), 1):\n",
    "    y_labels_times.append(get_key(y_times[i], labels_times))"
   ]
  },
  {
   "cell_type": "code",
   "execution_count": 19,
   "metadata": {},
   "outputs": [],
   "source": [
    "X_train_times, X_test_times, y_train_times, y_test_times = train_test_split(reshaped_times, y_labels_times, random_state=1, test_size=0.3)  "
   ]
  },
  {
   "cell_type": "code",
   "execution_count": 20,
   "metadata": {},
   "outputs": [],
   "source": [
    "xy_train_times = []\n",
    "for i in range(0, len(X_train_times), 1):\n",
    "    xy_train_times.append((X_train_times[i], y_train_times[i]))\n",
    "    \n",
    "xy_test_times = []\n",
    "for i in range(0, len(X_test_times), 1):\n",
    "    xy_test_times.append((X_test_times[i], y_test_times[i]))"
   ]
  },
  {
   "cell_type": "code",
   "execution_count": 21,
   "metadata": {},
   "outputs": [
    {
     "name": "stdout",
     "output_type": "stream",
     "text": [
      "Finished Training\n"
     ]
    }
   ],
   "source": [
    "train(net, 4, xy_train_times)"
   ]
  },
  {
   "cell_type": "code",
   "execution_count": 22,
   "metadata": {},
   "outputs": [
    {
     "name": "stdout",
     "output_type": "stream",
     "text": [
      "Accuracy of the network on the test images: 25 %\n"
     ]
    }
   ],
   "source": [
    "eval_times = evaluate(net, xy_test_times)"
   ]
  },
  {
   "cell_type": "code",
   "execution_count": 23,
   "metadata": {},
   "outputs": [],
   "source": [
    "#Times performs much worse than arial"
   ]
  },
  {
   "cell_type": "code",
   "execution_count": 24,
   "metadata": {},
   "outputs": [],
   "source": [
    "two_fonts = pd.concat([arial, times], axis=0)"
   ]
  },
  {
   "cell_type": "code",
   "execution_count": 25,
   "metadata": {},
   "outputs": [],
   "source": [
    "df2 = two_fonts.drop(['font', 'fontVariant', 'strength', 'italic', 'orientation', 'm_top', 'm_left', 'originalH', 'originalW', 'h', 'w'], axis=1)\n",
    "d2 = df2.loc[:, df2.columns != 'm_label']\n",
    "reshaped2 = d2.to_numpy().reshape(-1,20,20)"
   ]
  },
  {
   "cell_type": "code",
   "execution_count": 26,
   "metadata": {},
   "outputs": [],
   "source": [
    "reshaped2 = reshaped2.astype('float64')\n",
    "reshaped2 *= (1.0/reshaped2.max())\n",
    "\n",
    "y2 = df2.loc[:, df2.columns == 'm_label'].to_numpy()\n",
    "\n",
    "y_unq2 = np.unique(y2)"
   ]
  },
  {
   "cell_type": "code",
   "execution_count": 27,
   "metadata": {},
   "outputs": [],
   "source": [
    "labels2 = {}\n",
    "for i in range(len(y_unq2)):\n",
    "    labels2[i] = y_unq2[i]"
   ]
  },
  {
   "cell_type": "code",
   "execution_count": 28,
   "metadata": {},
   "outputs": [],
   "source": [
    "y_labels2 = []            \n",
    "for i in range(0, len(y2), 1):\n",
    "    y_labels2.append(get_key(y2[i], labels2))"
   ]
  },
  {
   "cell_type": "code",
   "execution_count": 29,
   "metadata": {},
   "outputs": [],
   "source": [
    "X_train2, X_test2, y_train2, y_test2 = train_test_split(reshaped2, y_labels2, random_state=1, test_size=0.3)  "
   ]
  },
  {
   "cell_type": "code",
   "execution_count": 30,
   "metadata": {},
   "outputs": [],
   "source": [
    "xy_train2 = []\n",
    "for i in range(0, len(X_train2), 1):\n",
    "    xy_train2.append((X_train2[i], y_train2[i]))\n",
    "    \n",
    "xy_test2 = []\n",
    "for i in range(0, len(X_test2), 1):\n",
    "    xy_test2.append((X_test2[i], y_test2[i]))"
   ]
  },
  {
   "cell_type": "code",
   "execution_count": 31,
   "metadata": {},
   "outputs": [
    {
     "name": "stdout",
     "output_type": "stream",
     "text": [
      "[1,  2000] loss: 2.856\n",
      "[2,  2000] loss: 1.671\n",
      "[3,  2000] loss: 1.276\n",
      "[4,  2000] loss: 1.062\n",
      "Finished Training\n"
     ]
    }
   ],
   "source": [
    "train(net, 4, xy_train2)"
   ]
  },
  {
   "cell_type": "code",
   "execution_count": 32,
   "metadata": {},
   "outputs": [
    {
     "name": "stdout",
     "output_type": "stream",
     "text": [
      "Accuracy of the network on the test images: 54 %\n"
     ]
    }
   ],
   "source": [
    "eval_twoFonts = evaluate(net, xy_test2)"
   ]
  },
  {
   "cell_type": "code",
   "execution_count": 33,
   "metadata": {},
   "outputs": [],
   "source": [
    "#The performance was about as good as arial alone"
   ]
  },
  {
   "cell_type": "code",
   "execution_count": 34,
   "metadata": {},
   "outputs": [],
   "source": [
    "lucida = pd.read_csv('/Users/derekolson/DerekOlson/CS6017/homework6/fonts/LUCIDA.csv')"
   ]
  },
  {
   "cell_type": "code",
   "execution_count": 35,
   "metadata": {},
   "outputs": [],
   "source": [
    "df_lucida = lucida.drop(['font', 'fontVariant', 'strength', 'italic', 'orientation', 'm_top', 'm_left', 'originalH', 'originalW', 'h', 'w'], axis=1)\n",
    "d_lucida = df_lucida.loc[:, df_lucida.columns != 'm_label']\n",
    "reshaped_lucida = d_lucida.to_numpy().reshape(-1,20,20)"
   ]
  },
  {
   "cell_type": "code",
   "execution_count": 36,
   "metadata": {},
   "outputs": [],
   "source": [
    "reshaped_lucida = reshaped_lucida.astype('float64')\n",
    "reshaped_lucida *= (1.0/reshaped_lucida.max())\n",
    "\n",
    "y_lucida = df_lucida.loc[:, df_lucida.columns == 'm_label'].to_numpy()\n",
    "\n",
    "y_unq_lucida = np.unique(y_lucida)"
   ]
  },
  {
   "cell_type": "code",
   "execution_count": 37,
   "metadata": {},
   "outputs": [],
   "source": [
    "labels_lucida = {}\n",
    "for i in range(len(y_unq_lucida)):\n",
    "    labels_lucida[i] = y_unq_lucida[i]"
   ]
  },
  {
   "cell_type": "code",
   "execution_count": 38,
   "metadata": {},
   "outputs": [],
   "source": [
    "y_labels_lucida = []            \n",
    "for i in range(0, len(y_lucida), 1):\n",
    "    y_labels_lucida.append(get_key(y_lucida[i], labels_lucida))"
   ]
  },
  {
   "cell_type": "code",
   "execution_count": 39,
   "metadata": {},
   "outputs": [],
   "source": [
    "X_train_lucida, X_test_lucida, y_train_lucida, y_test_lucida = train_test_split(reshaped_lucida, y_labels_lucida, random_state=1, test_size=0.3)  "
   ]
  },
  {
   "cell_type": "code",
   "execution_count": 40,
   "metadata": {},
   "outputs": [],
   "source": [
    "xy_test_lucida = []\n",
    "for i in range(0, len(X_test_lucida), 1):\n",
    "    xy_test_lucida.append((X_test_lucida[i], y_test_lucida[i]))"
   ]
  },
  {
   "cell_type": "code",
   "execution_count": 41,
   "metadata": {},
   "outputs": [
    {
     "name": "stdout",
     "output_type": "stream",
     "text": [
      "Accuracy of the network on the test images: 20 %\n"
     ]
    }
   ],
   "source": [
    "eval_lucida = evaluate(net, xy_test_lucida)"
   ]
  },
  {
   "cell_type": "code",
   "execution_count": 42,
   "metadata": {},
   "outputs": [],
   "source": [
    "#The accuracy dropped substantially when evaluating a font that the model was not trained on"
   ]
  },
  {
   "cell_type": "code",
   "execution_count": 43,
   "metadata": {},
   "outputs": [],
   "source": [
    "actual_predicted = []            \n",
    "for i in range(0, len(out), 1):\n",
    "    actual_predicted.append(get_key(out[i], labels)) "
   ]
  },
  {
   "cell_type": "code",
   "execution_count": 44,
   "metadata": {},
   "outputs": [],
   "source": [
    "def get_value(k, d):\n",
    "    for key, value in d.items(): \n",
    "         if k == key: \n",
    "             return value "
   ]
  },
  {
   "cell_type": "code",
   "execution_count": 45,
   "metadata": {},
   "outputs": [],
   "source": [
    "def get_counts(data):\n",
    "    out_dict = {}\n",
    "    for item in data:\n",
    "        if item not in out_dict:\n",
    "            out_dict[item] = 1\n",
    "        else:\n",
    "            out_dict[item] += 1\n",
    "    return out_dict"
   ]
  },
  {
   "cell_type": "code",
   "execution_count": 46,
   "metadata": {},
   "outputs": [],
   "source": [
    "vals = []\n",
    "for i in range(len(actual_predicted)):\n",
    "    vals.append(get_value(out[i], labels))"
   ]
  },
  {
   "cell_type": "code",
   "execution_count": 47,
   "metadata": {},
   "outputs": [],
   "source": [
    "d = get_counts(vals)"
   ]
  },
  {
   "cell_type": "code",
   "execution_count": 48,
   "metadata": {},
   "outputs": [
    {
     "name": "stdout",
     "output_type": "stream",
     "text": [
      "[(8212, 113), (48, 71), (729, 46), (218, 29), (197, 26), (86, 26), (73, 22), (202, 21), (1040, 19), (732, 17), (7888, 17), (110, 17), (1085, 16), (103, 16), (80, 15), (101, 15), (58, 15), (211, 15), (76, 15), (117, 15), (51, 15), (74, 14), (97, 14), (283, 14), (112, 14), (8217, 14), (96, 14), (925, 13), (33, 13), (88, 13), (412, 13), (364, 13), (84, 13), (203, 12), (1074, 12), (87, 12), (115, 12), (85, 12), (176, 12), (121, 12), (7808, 12), (83, 11), (268, 11), (226, 11), (1112, 11), (90, 11), (596, 11), (304, 11), (8725, 11), (79, 11), (728, 10), (224, 10), (49, 10), (207, 10), (924, 10), (1089, 9), (89, 9), (1042, 9), (56, 9), (180, 9), (57, 9), (1093, 9), (913, 9), (250, 9), (710, 9), (242, 9), (50, 9), (7504, 9), (119, 9), (209, 9), (106, 8), (253, 8), (206, 8), (7678, 8), (8101, 8), (917, 8), (933, 8), (1105, 8), (188, 8), (66, 8), (179, 8), (374, 8), (359, 8), (237, 8), (249, 8), (733, 8), (7923, 8), (337, 8), (1039, 7), (7922, 7), (105, 7), (1078, 7), (116, 7), (333, 7), (1048, 7), (7891, 7), (1043, 7), (8224, 7), (380, 7), (295, 7), (252, 7), (54, 7), (269, 7), (81, 7), (64258, 7), (42890, 7), (500, 7), (287, 7), (100, 7), (538, 7), (94, 7), (161, 6), (7777, 6), (276, 6), (114, 6), (789, 6), (731, 6), (299, 6), (955, 6), (894, 6), (55, 6), (361, 6), (34, 6), (711, 6), (350, 6), (272, 6), (7582, 6), (7978, 6), (288, 6), (71, 6), (849, 6), (104, 6), (1083, 6), (7495, 6), (548, 6), (8049, 6), (7432, 6), (675, 6), (8541, 6), (786, 6), (193, 6), (9553, 6), (61, 6), (906, 6), (229, 6), (1522, 6), (254, 6), (77, 6), (271, 6), (7918, 6), (75, 5), (215, 5), (1029, 5), (62, 5), (67, 5), (943, 5), (263, 5), (8249, 5), (326, 5), (951, 5), (7557, 5), (923, 5), (961, 5), (1010, 5), (7936, 5), (415, 5), (365, 5), (7948, 5), (617, 5), (7815, 5), (7938, 5), (956, 5), (8721, 5), (1031, 5), (7462, 5), (7696, 5), (370, 5), (8242, 5), (212, 5), (64295, 5), (7509, 5), (7779, 5), (53, 5), (798, 5), (848, 5), (8163, 5), (1067, 5), (1473, 5), (7830, 5), (377, 5), (345, 5), (382, 5), (957, 5), (8162, 5), (307, 5), (7433, 5), (1071, 4), (1132, 4), (35, 4), (8012, 4), (8432, 4), (373, 4), (1082, 4), (7753, 4), (1060, 4), (947, 4), (974, 4), (1616, 4), (479, 4), (7971, 4), (1888, 4), (107, 4), (7539, 4), (8035, 4), (328, 4), (181, 4), (7602, 4), (1771, 4), (1619, 4), (118, 4), (7598, 4), (8155, 4), (1206, 4), (8100, 4), (8147, 4), (8962, 4), (65257, 4), (838, 4), (217, 4), (7737, 4), (312, 4), (389, 4), (11382, 4), (1735, 4), (346, 4), (8004, 4), (1667, 4), (69, 4), (353, 4), (1590, 4), (8363, 4), (371, 4), (1658, 4), (400, 4), (908, 4), (314, 4), (1097, 4), (1254, 4), (1479, 4), (8139, 4), (1500, 4), (344, 4), (7995, 4), (7897, 4), (1153, 4), (1230, 4), (8075, 4), (1110, 4), (901, 4), (1240, 4), (972, 4), (8114, 4), (296, 4), (8218, 4), (7559, 4), (195, 4), (248, 4), (70, 4), (1430, 4), (530, 4), (64482, 4), (200, 4), (7847, 4), (656, 4), (954, 4), (64497, 3), (573, 3), (8319, 3), (1147, 3), (8221, 3), (7749, 3), (234, 3), (1583, 3), (166, 3), (8747, 3), (539, 3), (1702, 3), (7983, 3), (243, 3), (64449, 3), (7498, 3), (555, 3), (64395, 3), (376, 3), (72, 3), (187, 3), (8084, 3), (1114, 3), (7902, 3), (64488, 3), (64419, 3), (352, 3), (7976, 3), (7701, 3), (356, 3), (60, 3), (8185, 3), (8005, 3), (9792, 3), (7865, 3), (1212, 3), (567, 3), (7927, 3), (355, 3), (386, 3), (7774, 3), (230, 3), (1096, 3), (7729, 3), (108, 3), (170, 3), (222, 3), (244, 3), (918, 3), (1678, 3), (1252, 3), (8111, 3), (8730, 3), (258, 3), (65183, 3), (625, 3), (8104, 3), (542, 3), (8106, 3), (1117, 3), (1878, 3), (536, 3), (7819, 3), (8592, 3), (1079, 3), (1421, 3), (1221, 3), (7712, 3), (1456, 3), (1203, 3), (1375, 3), (1036, 3), (1051, 3), (7965, 3), (264, 3), (8616, 3), (7687, 3), (934, 3), (577, 3), (2293, 3), (1185, 3), (2297, 3), (8042, 3), (8047, 3), (8132, 3), (962, 3), (7851, 3), (722, 3), (8091, 3), (523, 3), (8124, 3), (1704, 3), (184, 3), (1050, 3), (416, 3), (1054, 3), (496, 3), (1364, 3), (239, 3), (8140, 3), (595, 3), (343, 3), (7684, 3), (91, 3), (7461, 3), (603, 3), (611, 3), (1118, 3), (702, 3), (65263, 3), (167, 3), (7606, 3), (7520, 3), (8222, 3), (1265, 3), (1087, 2), (1111, 2), (7770, 2), (1495, 2), (65140, 2), (236, 2), (297, 2), (1465, 2), (1175, 2), (912, 2), (932, 2), (11377, 2), (7532, 2), (311, 2), (7607, 2), (1680, 2), (7916, 2), (945, 2), (1362, 2), (7798, 2), (8057, 2), (1319, 2), (201, 2), (64276, 2), (43, 2), (64305, 2), (220, 2), (7569, 2), (1125, 2), (204, 2), (8102, 2), (7955, 2), (375, 2), (7950, 2), (995, 2), (1687, 2), (391, 2), (509, 2), (721, 2), (978, 2), (7526, 2), (9574, 2), (59, 2), (65178, 2), (64359, 2), (7986, 2), (8076, 2), (1188, 2), (65272, 2), (336, 2), (634, 2), (301, 2), (952, 2), (1715, 2), (1194, 2), (7455, 2), (434, 2), (424, 2), (37, 2), (7964, 2), (246, 2), (1115, 2), (7905, 2), (7705, 2), (7576, 2), (1075, 2), (1569, 2), (1284, 2), (804, 2), (64432, 2), (7849, 2), (498, 2), (1296, 2), (7887, 2), (960, 2), (608, 2), (910, 2), (8118, 2), (7765, 2), (7960, 2), (1905, 2), (7907, 2), (1767, 2), (1572, 2), (1581, 2), (8040, 2), (431, 2), (1451, 2), (1627, 2), (815, 2), (7603, 2), (928, 2), (657, 2), (1001, 2), (464, 2), (931, 2), (757, 2), (1187, 2), (658, 2), (439, 2), (641, 2), (292, 2), (228, 2), (1431, 2), (465, 2), (936, 2), (8308, 2), (189, 2), (64339, 2), (1774, 2), (7867, 2), (7954, 2), (8134, 2), (168, 2), (1107, 2), (381, 2), (1326, 2), (7719, 2), (183, 2), (941, 2), (7937, 2), (379, 2), (9566, 2), (1623, 2), (65202, 2), (2280, 2), (7599, 2), (1236, 2), (1317, 2), (8719, 2), (9619, 2), (64426, 2), (1035, 2), (240, 2), (1561, 2), (8085, 2), (507, 2), (7860, 2), (1258, 2), (52, 2), (1129, 2), (905, 2), (8052, 2), (7909, 2), (7581, 2), (1332, 2), (1776, 2), (306, 2), (214, 2), (1235, 2), (9561, 2), (7437, 2), (420, 2), (293, 2), (64503, 2), (1640, 2), (7963, 2), (1102, 2), (7517, 2), (1718, 2), (1371, 2), (1044, 2), (354, 2), (7915, 2), (82, 2), (319, 2), (1786, 2), (122, 2), (7614, 2), (824, 2), (1682, 2), (942, 2), (7818, 2), (257, 2), (9679, 2), (1168, 2), (1772, 2), (39, 2), (1400, 2), (7547, 2), (8180, 2), (1910, 2), (8067, 2), (426, 2), (45, 2), (7772, 2), (1378, 2), (7494, 2), (1101, 2), (198, 2), (7998, 2), (7483, 2), (7529, 2), (64400, 2), (7720, 2), (8033, 2), (1491, 2), (741, 2), (65260, 2), (64298, 2), (1237, 2), (308, 2), (1335, 2), (1603, 2), (598, 2), (7453, 2), (670, 2), (1597, 2), (162, 2), (701, 2), (8364, 2), (65167, 2), (7911, 2), (409, 2), (65224, 2), (1028, 2), (64291, 2), (1049, 2), (1674, 2), (8467, 2), (1070, 2), (9568, 2), (65174, 2), (1683, 2), (310, 2), (9569, 2), (1885, 2), (1108, 2), (44, 2), (7727, 2), (1290, 2), (503, 2), (921, 2), (78, 2), (1100, 2), (102, 2), (1218, 2), (321, 2), (632, 2), (7558, 2), (7733, 2), (1584, 2), (64414, 2), (388, 2), (1289, 2), (1432, 2), (826, 2), (797, 2), (7553, 2), (1301, 2), (172, 2), (1695, 2), (619, 2), (245, 2), (64498, 1), (762, 1), (7750, 1), (259, 1), (367, 1), (8593, 1), (323, 1), (347, 1), (1004, 1), (8023, 1), (796, 1), (273, 1), (524, 1), (1130, 1), (7681, 1), (7809, 1), (109, 1), (1287, 1), (1783, 1), (911, 1), (652, 1), (7740, 1), (7492, 1), (1570, 1), (8800, 1), (64756, 1), (7745, 1), (1433, 1), (7561, 1), (1210, 1), (8179, 1), (64370, 1), (64495, 1), (7852, 1), (1745, 1), (65159, 1), (7763, 1), (331, 1), (7463, 1), (1020, 1), (1244, 1), (7999, 1), (9675, 1), (8776, 1), (274, 1), (316, 1), (637, 1), (64440, 1), (948, 1), (944, 1), (64396, 1), (730, 1), (550, 1), (1712, 1), (11378, 1), (1009, 1), (1601, 1), (7785, 1), (46, 1), (317, 1), (7746, 1), (7974, 1), (7855, 1), (265, 1), (1052, 1), (92, 1), (738, 1), (64352, 1), (216, 1), (7594, 1), (227, 1), (1314, 1), (64256, 1), (885, 1), (233, 1), (940, 1), (1066, 1), (640, 1), (2224, 1), (1264, 1), (1571, 1), (64356, 1), (9571, 1), (8243, 1), (552, 1), (452, 1), (7871, 1), (8153, 1), (8025, 1), (403, 1), (1666, 1), (407, 1), (7721, 1), (1705, 1), (7697, 1), (64485, 1), (1223, 1), (1274, 1), (7713, 1), (636, 1), (1498, 1), (982, 1), (590, 1), (65256, 1), (7556, 1), (8596, 1), (1663, 1), (1604, 1), (1280, 1), (418, 1), (42785, 1), (1524, 1), (864, 1), (64385, 1), (7759, 1), (436, 1), (164, 1), (1450, 1), (42778, 1), (113, 1), (1178, 1), (508, 1), (1208, 1), (1069, 1), (9488, 1), (208, 1), (64260, 1), (1899, 1), (256, 1), (7977, 1), (64345, 1), (7943, 1), (1151, 1), (7781, 1), (368, 1), (1109, 1), (1143, 1), (7997, 1), (324, 1), (1322, 1), (8340, 1), (7925, 1), (402, 1), (7563, 1), (1700, 1), (1684, 1), (205, 1), (8225, 1), (8165, 1), (42781, 1), (1095, 1), (8167, 1), (238, 1), (285, 1), (1650, 1), (7694, 1), (1617, 1), (986, 1), (1382, 1), (120, 1), (8184, 1), (7863, 1), (1288, 1), (7843, 1), (9787, 1), (540, 1), (7968, 1), (840, 1), (1135, 1), (9577, 1), (880, 1), (65241, 1), (8064, 1), (1883, 1), (9643, 1), (8094, 1), (182, 1), (1744, 1), (9650, 1), (9516, 1), (937, 1), (8353, 1), (7568, 1), (610, 1), (65165, 1), (8108, 1), (394, 1), (633, 1), (1162, 1), (1665, 1), (165, 1), (322, 1), (68, 1), (7514, 1), (7738, 1), (1173, 1), (1731, 1), (65252, 1), (9564, 1), (65248, 1), (966, 1), (521, 1), (9524, 1), (1635, 1), (553, 1), (7875, 1), (1084, 1), (783, 1), (9794, 1), (1346, 1), (440, 1), (593, 1), (1379, 1), (1879, 1), (64511, 1), (771, 1), (1606, 1), (1145, 1), (1877, 1), (1880, 1), (1762, 1), (64378, 1), (1195, 1), (900, 1), (699, 1), (1007, 1), (1406, 1), (1563, 1), (527, 1), (1443, 1), (1146, 1), (41, 1), (1192, 1), (260, 1), (64422, 1), (1671, 1), (8088, 1), (9552, 1), (8801, 1), (1186, 1), (616, 1), (65212, 1), (1489, 1), (231, 1), (64437, 1), (64333, 1), (904, 1), (64434, 1), (1751, 1), (1490, 1), (1090, 1), (8136, 1), (11391, 1), (8219, 1), (1310, 1), (7441, 1), (687, 1), (7503, 1), (261, 1), (111, 1), (7944, 1), (7446, 1), (1392, 1), (8216, 1), (11368, 1), (1754, 1), (2278, 1), (1777, 1), (7718, 1), (1076, 1), (8805, 1), (7530, 1), (7787, 1), (7862, 1), (47, 1), (7791, 1), (8121, 1), (65170, 1), (7996, 1), (65149, 1), (511, 1), (349, 1), (892, 1), (1098, 1), (42, 1), (1478, 1), (65266, 1), (1169, 1), (7933, 1), (8022, 1), (7549, 1), (9642, 1), (7565, 1), (340, 1), (1003, 1), (487, 1), (7474, 1), (8001, 1), (64292, 1), (8045, 1), (1241, 1), (837, 1), (191, 1), (8190, 1), (785, 1), (7587, 1), (64470, 1), (8071, 1), (8368, 1), (11374, 1), (64314, 1), (1618, 1), (40, 1), (1181, 1), (1913, 1), (1023, 1), (64373, 1), (7932, 1), (221, 1), (1464, 1), (7899, 1), (65176, 1), (65203, 1), (8093, 1), (163, 1), (7889, 1), (65234, 1), (64320, 1), (705, 1), (494, 1), (64486, 1), (9563, 1), (1228, 1), (348, 1), (410, 1), (1426, 1), (65172, 1), (1504, 1), (1549, 1), (624, 1), (7734, 1), (11379, 1), (1231, 1), (1065, 1), (65151, 1), (1510, 1), (1496, 1), (11369, 1), (8029, 1), (9580, 1), (8369, 1), (7704, 1), (8087, 1), (126, 1), (975, 1), (98, 1), (1045, 1), (7548, 1), (383, 1), (8109, 1), (1033, 1), (8039, 1), (7519, 1), (9484, 1), (64402, 1), (65059, 1), (11372, 1), (281, 1), (65156, 1), (886, 1), (291, 1), (1907, 1), (1193, 1), (64509, 1), (9835, 1), (1015, 1), (358, 1), (7827, 1), (8128, 1), (65154, 1), (65208, 1), (8027, 1), (1205, 1), (1696, 1), (1738, 1), (64475, 1), (692, 1), (65182, 1), (8710, 1), (8470, 1), (1562, 1), (8142, 1), (495, 1), (1081, 1), (362, 1), (7988, 1), (341, 1), (397, 1), (1245, 1), (7985, 1), (621, 1), (65163, 1), (1127, 1), (7788, 1), (270, 1), (492, 1), (7732, 1), (491, 1), (1755, 1), (860, 1), (946, 1), (751, 1), (1339, 1), (1250, 1), (1320, 1), (7688, 1), (1137, 1), (865, 1), (1890, 1), (313, 1), (1765, 1), (7742, 1), (63, 1), (64348, 1), (65192, 1), (514, 1), (8542, 1), (635, 1), (1646, 1), (64321, 1), (7811, 1), (247, 1), (7775, 1), (493, 1), (1080, 1), (1589, 1), (7706, 1), (1917, 1), (280, 1), (654, 1), (64365, 1), (65262, 1), (8226, 1), (7449, 1), (9834, 1), (8044, 1), (8992, 1), (325, 1), (7703, 1), (7605, 1), (7803, 1), (1260, 1), (661, 1), (704, 1), (64375, 1), (8804, 1), (199, 1), (1778, 1), (64494, 1), (7792, 1), (1605, 1), (8072, 1), (1073, 1), (959, 1), (1269, 1), (664, 1), (8019, 1), (8081, 1), (1902, 1), (764, 1), (1017, 1), (7812, 1)]\n"
     ]
    }
   ],
   "source": [
    "s = sorted(d.items(), key=lambda x:x[1], reverse=True)\n",
    "print(s)"
   ]
  },
  {
   "cell_type": "code",
   "execution_count": 49,
   "metadata": {},
   "outputs": [],
   "source": [
    "#Em Dash is my most misclassified with 465 missclassifications"
   ]
  },
  {
   "cell_type": "code",
   "execution_count": 50,
   "metadata": {},
   "outputs": [],
   "source": [
    "to_noise = pd.read_csv('/Users/derekolson/DerekOlson/CS6017/homework6/fonts/Arial.csv')\n",
    "df_noise = to_noise.drop(['font', 'fontVariant', 'strength', 'italic', 'orientation', 'm_top', 'm_left', 'originalH', 'originalW', 'h', 'w'], axis=1)\n",
    "d_noise = df_noise.loc[:, df_noise.columns != 'm_label']\n",
    "reshaped_noise = d_noise.to_numpy().reshape(-1,20,20)"
   ]
  },
  {
   "cell_type": "code",
   "execution_count": 51,
   "metadata": {},
   "outputs": [],
   "source": [
    "reshaped_noise = reshaped_noise.astype('float64')\n",
    "reshaped_noise *= (1.0/reshaped_noise.max())\n",
    "y_noise = df_noise.loc[:, df_noise.columns == 'm_label'].to_numpy()\n",
    "y_unq_noise = np.unique(y_noise)"
   ]
  },
  {
   "cell_type": "code",
   "execution_count": 52,
   "metadata": {},
   "outputs": [],
   "source": [
    "for image in reshaped_noise:\n",
    "    noise = np.random.normal(loc=0, scale=.25, size=image.shape)\n",
    "    image += noise\n",
    "    image /= np.max(image)"
   ]
  },
  {
   "cell_type": "code",
   "execution_count": 53,
   "metadata": {},
   "outputs": [],
   "source": [
    "labels_noise = {}\n",
    "for i in range(len(y_unq_noise)):\n",
    "    labels_noise[i] = y_unq_noise[i]"
   ]
  },
  {
   "cell_type": "code",
   "execution_count": 54,
   "metadata": {},
   "outputs": [],
   "source": [
    "y_labels_noise = []            \n",
    "for i in range(0, len(y), 1):\n",
    "    y_labels_noise.append(get_key(y_noise[i], labels_noise))"
   ]
  },
  {
   "cell_type": "code",
   "execution_count": 55,
   "metadata": {},
   "outputs": [],
   "source": [
    "X_train_noise, X_test_noise, y_train_noise, y_test_noise = train_test_split(reshaped_noise, y_labels_noise, random_state=1, test_size=0.3) "
   ]
  },
  {
   "cell_type": "code",
   "execution_count": 56,
   "metadata": {},
   "outputs": [],
   "source": [
    "xy_train_noise = []\n",
    "for i in range(0, len(X_train_noise), 1):\n",
    "    xy_train_noise.append((X_train_noise[i], y_train_noise[i]))\n",
    "    \n",
    "xy_test_noise = []\n",
    "for i in range(0, len(X_test_noise), 1):\n",
    "    xy_test_noise.append((X_test_noise[i], y_test_noise[i]))"
   ]
  },
  {
   "cell_type": "code",
   "execution_count": 57,
   "metadata": {},
   "outputs": [],
   "source": [
    "class CnnNet(nn.Module):\n",
    "    def __init__(self):\n",
    "        super(CnnNet, self).__init__()\n",
    "        \n",
    "        self.encodedSize = 32\n",
    "        \n",
    "        self.c1Out = 8 # filters from first conv layer\n",
    "        self.c2Out = 8 # filters from 2nd conv layer\n",
    "        \n",
    "        #the padding here puts a \"border\" of 0s around the image, so that convolution layers don't \"shrink\" the image\n",
    "        \n",
    "        self.cv1 = nn.Conv2d(1, self.c1Out, 3, padding=1) #stick with 3x3 filters\n",
    "        self.pool = nn.MaxPool2d(2,2)\n",
    "        self.cv2 = nn.Conv2d(self.c1Out, self.c2Out, 3, padding=1)\n",
    "        #reuse pool here\n",
    "        \n",
    "        self.downscaledSize = 20//4 #we add padding, so the conv2d layers don't change the size, just the max pools\n",
    "        self.flattenedSize = self.downscaledSize*self.downscaledSize*self.c2Out\n",
    "        \n",
    "        self.fc1 = nn.Linear(self.flattenedSize, 64)\n",
    "        self.fc2 = nn.Linear(64, self.encodedSize) #scale down to 64 features\n",
    "\n",
    "        #now we're encoded, so go define decoding pieces\n",
    "        \n",
    "        self.fc3 = nn.Linear(self.encodedSize, 64) #scale down to 64 features\n",
    "        self.fc4 = nn.Linear(64, self.flattenedSize)\n",
    "        \n",
    "        \n",
    "        self.upsample = nn.Upsample(scale_factor=2, mode='bilinear')\n",
    "        # the padding is very important here so we don't have to guess a \"frame\" of pixels around the image\n",
    "        self.cv3 = nn.Conv2d(self.c2Out, self.c1Out, 3, padding=1)\n",
    "        # apply upsample again\n",
    "        self.cv4 = nn.Conv2d(self.c1Out, 1, 3, padding=1)\n",
    "        \n",
    "        \n",
    "    def compress(self, x):\n",
    "        x = self.cv1(x)\n",
    "        #print(\"shape after cv1\", x.shape)\n",
    "        x = F.relu(self.pool(x))\n",
    "        #print(\"shape after pool1\", x.shape)\n",
    "        x = self.cv2(x)\n",
    "        #print(\"after cv2\", x.shape)\n",
    "        x = F.relu(self.pool(x))\n",
    "        #print(\"after pool 2\", x.shape)\n",
    "        x = x.view(-1, self.flattenedSize)\n",
    "        #print(\"flattened shape\", x.shape)\n",
    "        x = F.relu(self.fc1(x))\n",
    "        x = F.relu(self.fc2(x))\n",
    "        #now we have a low-d representation of our data.  If we were doing compression, we'd store this\n",
    "        return x\n",
    "    \n",
    "    def decompress(self, x):\n",
    "        x = F.relu(self.fc3(x))\n",
    "        x = F.relu(self.fc4(x))\n",
    "        #print(x.shape)\n",
    "        x = x.view(-1, self.c2Out, self.downscaledSize, self.downscaledSize)\n",
    "        #print(\"unflattened shape\", x.shape)\n",
    "        x = self.upsample(x)\n",
    "        #print(\"upsample\", x.shape)\n",
    "        x = F.relu(self.cv3(x))\n",
    "        #print(x.shape, \"after cv3\")\n",
    "        x = self.cv4(self.upsample(x))\n",
    "        #print(x.shape, \"after both upsamples\")\n",
    "        return x\n",
    "    \n",
    "    def forward(self, x):\n",
    "        x = self.compress(x)\n",
    "        x = self.decompress(x)\n",
    "       \n",
    "        return x\n",
    "\n",
    "cnnNet = CnnNet() # treat these as just 28 D vectors"
   ]
  },
  {
   "cell_type": "code",
   "execution_count": 58,
   "metadata": {},
   "outputs": [],
   "source": [
    "criterion = nn.MSELoss()\n",
    "def trainCNN(model, epochs):\n",
    "    # create an optimizer object\n",
    "    # Adam optimizer with learning rate 1e-3\n",
    "    optimizer = optim.Adam(model.parameters(), lr=1e-3)\n",
    "\n",
    "    \n",
    "    \n",
    "    train_loader = torch.utils.data.DataLoader(xy_train_noise, batch_size=8, shuffle=True, num_workers=0)\n",
    "    \n",
    "    for epoch in range(epochs):\n",
    "        loss = 0\n",
    "        \n",
    "        running_loss = 0\n",
    "        \n",
    "        for i, data in enumerate(train_loader, 0):\n",
    "\n",
    "            #same as yesterday, except we're not even looking at the labels!\n",
    "            # since we're not using a CNN, we need to \"flatten\" the input images\n",
    "            batch_features = data[0]\n",
    "            batch_features = batch_features.reshape(-1,1,20,20)\n",
    "            # reset the gradients back to zero\n",
    "            # PyTorch accumulates gradients on subsequent backward passes\n",
    "            optimizer.zero_grad()\n",
    "        \n",
    "            # compute reconstructions\n",
    "            outputs = model(batch_features.float())\n",
    "            #print(batch_features.shape)\n",
    "            #print(outputs.shape)\n",
    "            # compute training reconstruction loss\n",
    "            # again, same idea as yesterday, but we're measuring the error slightly differently\n",
    "            # how well does the reconstructed image match the input image?\n",
    "            train_loss = criterion(outputs, batch_features.float())\n",
    "        \n",
    "            # compute accumulated gradients\n",
    "            train_loss.backward()\n",
    "        \n",
    "            # perform parameter update based on current gradients\n",
    "            optimizer.step()\n",
    "        \n",
    "            # add the mini-batch training loss to epoch loss\n",
    "            loss += train_loss.item()\n",
    "    \n",
    "            # print statistics\n",
    "            running_loss += train_loss.item()\n",
    "            if i % 2000 == 1999:    # print every 2000 mini-batches\n",
    "                print('[%d, %5d] loss: %.8f' % (epoch + 1, i + 1, running_loss / 2000))\n",
    "            running_loss = 0.0\n",
    "\n",
    "    \n",
    "        # compute the epoch training loss\n",
    "        loss = loss / len(train_loader)\n",
    "    \n",
    "        # display the epoch training loss\n",
    "        print(\"epoch : {}/{}, loss = {:.8f}\".format(epoch + 1, epochs, loss))\n",
    "\n",
    "def evaluateCNN(model):\n",
    "    test_loader = torch.utils.data.DataLoader(xy_test_noise, batch_size=8, shuffle=True, num_workers=0)\n",
    "    total_loss = 0\n",
    "    with torch.no_grad():\n",
    "        for data in test_loader:\n",
    "            images = data[0]\n",
    "            images = images.reshape(-1,1,20,20)\n",
    "            outputs = model(images.float())\n",
    "            test_loss = criterion(outputs, images)\n",
    "            total_loss += test_loss.item()\n",
    "\n",
    "    print(\"overall loss: \", total_loss)"
   ]
  },
  {
   "cell_type": "code",
   "execution_count": 59,
   "metadata": {},
   "outputs": [
    {
     "name": "stderr",
     "output_type": "stream",
     "text": [
      "/opt/anaconda3/lib/python3.7/site-packages/torch/nn/functional.py:2973: UserWarning: Default upsampling behavior when mode=bilinear is changed to align_corners=False since 0.4.0. Please specify align_corners=True if the old behavior is desired. See the documentation of nn.Upsample for details.\n",
      "  \"See the documentation of nn.Upsample for details.\".format(mode))\n"
     ]
    },
    {
     "data": {
      "image/png": "[encoded data removed]",
      "text/plain": [
       "<Figure size 1440x432 with 128 Axes>"
      ]
     },
     "metadata": {
      "needs_background": "light"
     },
     "output_type": "display_data"
    }
   ],
   "source": [
    "def drawComparisonsCNN(model):\n",
    "    test_loader = torch.utils.data.DataLoader(xy_test_noise, batch_size=8, shuffle=True, num_workers=0)\n",
    "    plt.figure(figsize=(20, 6))\n",
    "    for i, batch in enumerate(test_loader):\n",
    "        if i >= 8: break\n",
    "        images = batch[0]\n",
    "        images = images.reshape(-1,1,20,20)\n",
    "        #print(images.shape)\n",
    "        with torch.no_grad():\n",
    "            reconstructed = model(images.float())\n",
    "            for j in range(len(images)):\n",
    "                #draw the original image\n",
    "                ax = plt.subplot(16, 8, i*16 + j + 1)\n",
    "                plt.imshow(images[j].reshape((20,20)), cmap=\"Greys\", interpolation=None)\n",
    "                ax.get_xaxis().set_visible(False)\n",
    "                ax.get_yaxis().set_visible(False)\n",
    "            \n",
    "                #and the reconstructed version in the next row\n",
    "                ax = plt.subplot(16, 8, i*16 + j + 1 + 8)\n",
    "                plt.imshow(reconstructed[j].reshape((20,20)), cmap=\"Greys\", interpolation=None)\n",
    "                ax.get_xaxis().set_visible(False)\n",
    "                ax.get_yaxis().set_visible(False)\n",
    "        \n",
    "drawComparisonsCNN(cnnNet)"
   ]
  }
 ],
 "metadata": {
  "kernelspec": {
   "display_name": "Python 3",
   "language": "python",
   "name": "python3"
  },
  "language_info": {
   "codemirror_mode": {
    "name": "ipython",
    "version": 3
   },
   "file_extension": ".py",
   "mimetype": "text/x-python",
   "name": "python",
   "nbconvert_exporter": "python",
   "pygments_lexer": "ipython3",
   "version": "3.7.4"
  }
 },
 "nbformat": 4,
 "nbformat_minor": 4
}
